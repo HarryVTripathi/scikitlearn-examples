{
 "cells": [
  {
   "cell_type": "markdown",
   "metadata": {},
   "source": [
    "### Confusion matrix"
   ]
  },
  {
   "cell_type": "markdown",
   "metadata": {},
   "source": [
    "- **Power**: Probability of correctly rejecting the null hypothesis.\n",
    "<br><br>\n",
    "- **False positives or Type I error**: Something predicted to happen but actually doesn't happen. Rejecting the null hypothesis when it is true. P(Type I error) = significance_level(alpha)\n",
    "<br><br>\n",
    "- **False negative or Type II error**: Something not predicted to happen but does happen. Not rejecting null hypothesis when it is false."
   ]
  },
  {
   "cell_type": "markdown",
   "metadata": {},
   "source": [
    "<img src=\"./ConfusionMatrix.jpg\">"
   ]
  },
  {
   "cell_type": "code",
   "execution_count": 4,
   "metadata": {},
   "outputs": [
    {
     "data": {
      "text/plain": [
       "[['correct', 't1_error'], ['t2_error', 'correct']]"
      ]
     },
     "execution_count": 4,
     "metadata": {},
     "output_type": "execute_result"
    }
   ],
   "source": [
    "[['correct',       't1_error'],\n",
    " ['t2_error',      'correct']]"
   ]
  },
  {
   "cell_type": "markdown",
   "metadata": {},
   "source": [
    "<hr>"
   ]
  },
  {
   "cell_type": "markdown",
   "metadata": {},
   "source": [
    "### Cummulative accuracy profile"
   ]
  },
  {
   "cell_type": "markdown",
   "metadata": {},
   "source": [
    " - Area under CAP curve (between the model's CAP curve and the random selection line) indicates how good the model is.\n",
    " - Its not same as ROC curve."
   ]
  },
  {
   "cell_type": "code",
   "execution_count": null,
   "metadata": {},
   "outputs": [],
   "source": []
  }
 ],
 "metadata": {
  "kernelspec": {
   "display_name": "Python 3",
   "language": "python",
   "name": "python3"
  },
  "language_info": {
   "codemirror_mode": {
    "name": "ipython",
    "version": 3
   },
   "file_extension": ".py",
   "mimetype": "text/x-python",
   "name": "python",
   "nbconvert_exporter": "python",
   "pygments_lexer": "ipython3",
   "version": "3.8.5"
  }
 },
 "nbformat": 4,
 "nbformat_minor": 4
}
