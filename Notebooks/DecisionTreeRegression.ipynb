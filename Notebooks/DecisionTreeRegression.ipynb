{
 "cells": [
  {
   "cell_type": "markdown",
   "metadata": {},
   "source": [
    "## Decision tree regression"
   ]
  },
  {
   "cell_type": "markdown",
   "metadata": {},
   "source": [
    "### Importing libraries"
   ]
  },
  {
   "cell_type": "code",
   "execution_count": 1,
   "metadata": {},
   "outputs": [],
   "source": [
    "import pandas as pd\n",
    "import numpy as np\n",
    "import matplotlib.pyplot as plt"
   ]
  },
  {
   "cell_type": "code",
   "execution_count": 2,
   "metadata": {},
   "outputs": [
    {
     "data": {
      "text/html": [
       "<div>\n",
       "<style scoped>\n",
       "    .dataframe tbody tr th:only-of-type {\n",
       "        vertical-align: middle;\n",
       "    }\n",
       "\n",
       "    .dataframe tbody tr th {\n",
       "        vertical-align: top;\n",
       "    }\n",
       "\n",
       "    .dataframe thead th {\n",
       "        text-align: right;\n",
       "    }\n",
       "</style>\n",
       "<table border=\"1\" class=\"dataframe\">\n",
       "  <thead>\n",
       "    <tr style=\"text-align: right;\">\n",
       "      <th></th>\n",
       "      <th>X1 transaction date</th>\n",
       "      <th>X2 house age</th>\n",
       "      <th>X3 distance to the nearest MRT station</th>\n",
       "      <th>X4 number of convenience stores</th>\n",
       "      <th>X5 latitude</th>\n",
       "      <th>X6 longitude</th>\n",
       "      <th>Y house price of unit area</th>\n",
       "    </tr>\n",
       "    <tr>\n",
       "      <th>No</th>\n",
       "      <th></th>\n",
       "      <th></th>\n",
       "      <th></th>\n",
       "      <th></th>\n",
       "      <th></th>\n",
       "      <th></th>\n",
       "      <th></th>\n",
       "    </tr>\n",
       "  </thead>\n",
       "  <tbody>\n",
       "    <tr>\n",
       "      <th>1</th>\n",
       "      <td>2012.917</td>\n",
       "      <td>32.0</td>\n",
       "      <td>84.87882</td>\n",
       "      <td>10</td>\n",
       "      <td>24.98298</td>\n",
       "      <td>121.54024</td>\n",
       "      <td>37.9</td>\n",
       "    </tr>\n",
       "    <tr>\n",
       "      <th>2</th>\n",
       "      <td>2012.917</td>\n",
       "      <td>19.5</td>\n",
       "      <td>306.59470</td>\n",
       "      <td>9</td>\n",
       "      <td>24.98034</td>\n",
       "      <td>121.53951</td>\n",
       "      <td>42.2</td>\n",
       "    </tr>\n",
       "    <tr>\n",
       "      <th>3</th>\n",
       "      <td>2013.583</td>\n",
       "      <td>13.3</td>\n",
       "      <td>561.98450</td>\n",
       "      <td>5</td>\n",
       "      <td>24.98746</td>\n",
       "      <td>121.54391</td>\n",
       "      <td>47.3</td>\n",
       "    </tr>\n",
       "    <tr>\n",
       "      <th>4</th>\n",
       "      <td>2013.500</td>\n",
       "      <td>13.3</td>\n",
       "      <td>561.98450</td>\n",
       "      <td>5</td>\n",
       "      <td>24.98746</td>\n",
       "      <td>121.54391</td>\n",
       "      <td>54.8</td>\n",
       "    </tr>\n",
       "    <tr>\n",
       "      <th>5</th>\n",
       "      <td>2012.833</td>\n",
       "      <td>5.0</td>\n",
       "      <td>390.56840</td>\n",
       "      <td>5</td>\n",
       "      <td>24.97937</td>\n",
       "      <td>121.54245</td>\n",
       "      <td>43.1</td>\n",
       "    </tr>\n",
       "  </tbody>\n",
       "</table>\n",
       "</div>"
      ],
      "text/plain": [
       "    X1 transaction date  X2 house age  X3 distance to the nearest MRT station  \\\n",
       "No                                                                              \n",
       "1              2012.917          32.0                                84.87882   \n",
       "2              2012.917          19.5                               306.59470   \n",
       "3              2013.583          13.3                               561.98450   \n",
       "4              2013.500          13.3                               561.98450   \n",
       "5              2012.833           5.0                               390.56840   \n",
       "\n",
       "    X4 number of convenience stores  X5 latitude  X6 longitude  \\\n",
       "No                                                               \n",
       "1                                10     24.98298     121.54024   \n",
       "2                                 9     24.98034     121.53951   \n",
       "3                                 5     24.98746     121.54391   \n",
       "4                                 5     24.98746     121.54391   \n",
       "5                                 5     24.97937     121.54245   \n",
       "\n",
       "    Y house price of unit area  \n",
       "No                              \n",
       "1                         37.9  \n",
       "2                         42.2  \n",
       "3                         47.3  \n",
       "4                         54.8  \n",
       "5                         43.1  "
      ]
     },
     "execution_count": 2,
     "metadata": {},
     "output_type": "execute_result"
    }
   ],
   "source": [
    "dataset = pd.read_csv('Real_Estate.csv', index_col='No')\n",
    "dataset.head()"
   ]
  },
  {
   "cell_type": "code",
   "execution_count": 3,
   "metadata": {},
   "outputs": [],
   "source": [
    "X = dataset.iloc[:, : -1].values\n",
    "y = dataset.iloc[:, -1].values"
   ]
  },
  {
   "cell_type": "code",
   "execution_count": 4,
   "metadata": {},
   "outputs": [
    {
     "data": {
      "text/html": [
       "<style  type=\"text/css\" >\n",
       "    #T_4a002300_c522_11ea_bc0c_d4258b8a2cfcrow0_col0 {\n",
       "            background-color:  #b40426;\n",
       "            color:  #f1f1f1;\n",
       "        }    #T_4a002300_c522_11ea_bc0c_d4258b8a2cfcrow0_col1 {\n",
       "            background-color:  #779af7;\n",
       "            color:  #000000;\n",
       "        }    #T_4a002300_c522_11ea_bc0c_d4258b8a2cfcrow0_col2 {\n",
       "            background-color:  #d7dce3;\n",
       "            color:  #000000;\n",
       "        }    #T_4a002300_c522_11ea_bc0c_d4258b8a2cfcrow0_col3 {\n",
       "            background-color:  #bad0f8;\n",
       "            color:  #000000;\n",
       "        }    #T_4a002300_c522_11ea_bc0c_d4258b8a2cfcrow0_col4 {\n",
       "            background-color:  #bed2f6;\n",
       "            color:  #000000;\n",
       "        }    #T_4a002300_c522_11ea_bc0c_d4258b8a2cfcrow0_col5 {\n",
       "            background-color:  #c7d7f0;\n",
       "            color:  #000000;\n",
       "        }    #T_4a002300_c522_11ea_bc0c_d4258b8a2cfcrow0_col6 {\n",
       "            background-color:  #d1dae9;\n",
       "            color:  #000000;\n",
       "        }    #T_4a002300_c522_11ea_bc0c_d4258b8a2cfcrow1_col0 {\n",
       "            background-color:  #4b64d5;\n",
       "            color:  #f1f1f1;\n",
       "        }    #T_4a002300_c522_11ea_bc0c_d4258b8a2cfcrow1_col1 {\n",
       "            background-color:  #b40426;\n",
       "            color:  #f1f1f1;\n",
       "        }    #T_4a002300_c522_11ea_bc0c_d4258b8a2cfcrow1_col2 {\n",
       "            background-color:  #d2dbe8;\n",
       "            color:  #000000;\n",
       "        }    #T_4a002300_c522_11ea_bc0c_d4258b8a2cfcrow1_col3 {\n",
       "            background-color:  #c3d5f4;\n",
       "            color:  #000000;\n",
       "        }    #T_4a002300_c522_11ea_bc0c_d4258b8a2cfcrow1_col4 {\n",
       "            background-color:  #c1d4f4;\n",
       "            color:  #000000;\n",
       "        }    #T_4a002300_c522_11ea_bc0c_d4258b8a2cfcrow1_col5 {\n",
       "            background-color:  #c6d6f1;\n",
       "            color:  #000000;\n",
       "        }    #T_4a002300_c522_11ea_bc0c_d4258b8a2cfcrow1_col6 {\n",
       "            background-color:  #96b7ff;\n",
       "            color:  #000000;\n",
       "        }    #T_4a002300_c522_11ea_bc0c_d4258b8a2cfcrow2_col0 {\n",
       "            background-color:  #5977e3;\n",
       "            color:  #000000;\n",
       "        }    #T_4a002300_c522_11ea_bc0c_d4258b8a2cfcrow2_col1 {\n",
       "            background-color:  #799cf8;\n",
       "            color:  #000000;\n",
       "        }    #T_4a002300_c522_11ea_bc0c_d4258b8a2cfcrow2_col2 {\n",
       "            background-color:  #b40426;\n",
       "            color:  #f1f1f1;\n",
       "        }    #T_4a002300_c522_11ea_bc0c_d4258b8a2cfcrow2_col3 {\n",
       "            background-color:  #3b4cc0;\n",
       "            color:  #f1f1f1;\n",
       "        }    #T_4a002300_c522_11ea_bc0c_d4258b8a2cfcrow2_col4 {\n",
       "            background-color:  #3b4cc0;\n",
       "            color:  #f1f1f1;\n",
       "        }    #T_4a002300_c522_11ea_bc0c_d4258b8a2cfcrow2_col5 {\n",
       "            background-color:  #3b4cc0;\n",
       "            color:  #f1f1f1;\n",
       "        }    #T_4a002300_c522_11ea_bc0c_d4258b8a2cfcrow2_col6 {\n",
       "            background-color:  #3b4cc0;\n",
       "            color:  #f1f1f1;\n",
       "        }    #T_4a002300_c522_11ea_bc0c_d4258b8a2cfcrow3_col0 {\n",
       "            background-color:  #4961d2;\n",
       "            color:  #f1f1f1;\n",
       "        }    #T_4a002300_c522_11ea_bc0c_d4258b8a2cfcrow3_col1 {\n",
       "            background-color:  #81a4fb;\n",
       "            color:  #000000;\n",
       "        }    #T_4a002300_c522_11ea_bc0c_d4258b8a2cfcrow3_col2 {\n",
       "            background-color:  #5d7ce6;\n",
       "            color:  #000000;\n",
       "        }    #T_4a002300_c522_11ea_bc0c_d4258b8a2cfcrow3_col3 {\n",
       "            background-color:  #b40426;\n",
       "            color:  #f1f1f1;\n",
       "        }    #T_4a002300_c522_11ea_bc0c_d4258b8a2cfcrow3_col4 {\n",
       "            background-color:  #f6bda2;\n",
       "            color:  #000000;\n",
       "        }    #T_4a002300_c522_11ea_bc0c_d4258b8a2cfcrow3_col5 {\n",
       "            background-color:  #f7af91;\n",
       "            color:  #000000;\n",
       "        }    #T_4a002300_c522_11ea_bc0c_d4258b8a2cfcrow3_col6 {\n",
       "            background-color:  #f59c7d;\n",
       "            color:  #000000;\n",
       "        }    #T_4a002300_c522_11ea_bc0c_d4258b8a2cfcrow4_col0 {\n",
       "            background-color:  #506bda;\n",
       "            color:  #000000;\n",
       "        }    #T_4a002300_c522_11ea_bc0c_d4258b8a2cfcrow4_col1 {\n",
       "            background-color:  #82a6fb;\n",
       "            color:  #000000;\n",
       "        }    #T_4a002300_c522_11ea_bc0c_d4258b8a2cfcrow4_col2 {\n",
       "            background-color:  #5f7fe8;\n",
       "            color:  #000000;\n",
       "        }    #T_4a002300_c522_11ea_bc0c_d4258b8a2cfcrow4_col3 {\n",
       "            background-color:  #f7bca1;\n",
       "            color:  #000000;\n",
       "        }    #T_4a002300_c522_11ea_bc0c_d4258b8a2cfcrow4_col4 {\n",
       "            background-color:  #b40426;\n",
       "            color:  #f1f1f1;\n",
       "        }    #T_4a002300_c522_11ea_bc0c_d4258b8a2cfcrow4_col5 {\n",
       "            background-color:  #f7b599;\n",
       "            color:  #000000;\n",
       "        }    #T_4a002300_c522_11ea_bc0c_d4258b8a2cfcrow4_col6 {\n",
       "            background-color:  #f6a283;\n",
       "            color:  #000000;\n",
       "        }    #T_4a002300_c522_11ea_bc0c_d4258b8a2cfcrow5_col0 {\n",
       "            background-color:  #3b4cc0;\n",
       "            color:  #f1f1f1;\n",
       "        }    #T_4a002300_c522_11ea_bc0c_d4258b8a2cfcrow5_col1 {\n",
       "            background-color:  #6485ec;\n",
       "            color:  #000000;\n",
       "        }    #T_4a002300_c522_11ea_bc0c_d4258b8a2cfcrow5_col2 {\n",
       "            background-color:  #3b4cc0;\n",
       "            color:  #f1f1f1;\n",
       "        }    #T_4a002300_c522_11ea_bc0c_d4258b8a2cfcrow5_col3 {\n",
       "            background-color:  #f7bca1;\n",
       "            color:  #000000;\n",
       "        }    #T_4a002300_c522_11ea_bc0c_d4258b8a2cfcrow5_col4 {\n",
       "            background-color:  #f5c2aa;\n",
       "            color:  #000000;\n",
       "        }    #T_4a002300_c522_11ea_bc0c_d4258b8a2cfcrow5_col5 {\n",
       "            background-color:  #b40426;\n",
       "            color:  #f1f1f1;\n",
       "        }    #T_4a002300_c522_11ea_bc0c_d4258b8a2cfcrow5_col6 {\n",
       "            background-color:  #f7a688;\n",
       "            color:  #000000;\n",
       "        }    #T_4a002300_c522_11ea_bc0c_d4258b8a2cfcrow6_col0 {\n",
       "            background-color:  #6180e9;\n",
       "            color:  #000000;\n",
       "        }    #T_4a002300_c522_11ea_bc0c_d4258b8a2cfcrow6_col1 {\n",
       "            background-color:  #3b4cc0;\n",
       "            color:  #f1f1f1;\n",
       "        }    #T_4a002300_c522_11ea_bc0c_d4258b8a2cfcrow6_col2 {\n",
       "            background-color:  #506bda;\n",
       "            color:  #000000;\n",
       "        }    #T_4a002300_c522_11ea_bc0c_d4258b8a2cfcrow6_col3 {\n",
       "            background-color:  #f5a081;\n",
       "            color:  #000000;\n",
       "        }    #T_4a002300_c522_11ea_bc0c_d4258b8a2cfcrow6_col4 {\n",
       "            background-color:  #f7a688;\n",
       "            color:  #000000;\n",
       "        }    #T_4a002300_c522_11ea_bc0c_d4258b8a2cfcrow6_col5 {\n",
       "            background-color:  #f59f80;\n",
       "            color:  #000000;\n",
       "        }    #T_4a002300_c522_11ea_bc0c_d4258b8a2cfcrow6_col6 {\n",
       "            background-color:  #b40426;\n",
       "            color:  #f1f1f1;\n",
       "        }</style><table id=\"T_4a002300_c522_11ea_bc0c_d4258b8a2cfc\" ><thead>    <tr>        <th class=\"blank level0\" ></th>        <th class=\"col_heading level0 col0\" >X1 transaction date</th>        <th class=\"col_heading level0 col1\" >X2 house age</th>        <th class=\"col_heading level0 col2\" >X3 distance to the nearest MRT station</th>        <th class=\"col_heading level0 col3\" >X4 number of convenience stores</th>        <th class=\"col_heading level0 col4\" >X5 latitude</th>        <th class=\"col_heading level0 col5\" >X6 longitude</th>        <th class=\"col_heading level0 col6\" >Y house price of unit area</th>    </tr></thead><tbody>\n",
       "                <tr>\n",
       "                        <th id=\"T_4a002300_c522_11ea_bc0c_d4258b8a2cfclevel0_row0\" class=\"row_heading level0 row0\" >X1 transaction date</th>\n",
       "                        <td id=\"T_4a002300_c522_11ea_bc0c_d4258b8a2cfcrow0_col0\" class=\"data row0 col0\" >1</td>\n",
       "                        <td id=\"T_4a002300_c522_11ea_bc0c_d4258b8a2cfcrow0_col1\" class=\"data row0 col1\" >0.0175488</td>\n",
       "                        <td id=\"T_4a002300_c522_11ea_bc0c_d4258b8a2cfcrow0_col2\" class=\"data row0 col2\" >0.06088</td>\n",
       "                        <td id=\"T_4a002300_c522_11ea_bc0c_d4258b8a2cfcrow0_col3\" class=\"data row0 col3\" >0.00963544</td>\n",
       "                        <td id=\"T_4a002300_c522_11ea_bc0c_d4258b8a2cfcrow0_col4\" class=\"data row0 col4\" >0.0350578</td>\n",
       "                        <td id=\"T_4a002300_c522_11ea_bc0c_d4258b8a2cfcrow0_col5\" class=\"data row0 col5\" >-0.0410818</td>\n",
       "                        <td id=\"T_4a002300_c522_11ea_bc0c_d4258b8a2cfcrow0_col6\" class=\"data row0 col6\" >0.0874906</td>\n",
       "            </tr>\n",
       "            <tr>\n",
       "                        <th id=\"T_4a002300_c522_11ea_bc0c_d4258b8a2cfclevel0_row1\" class=\"row_heading level0 row1\" >X2 house age</th>\n",
       "                        <td id=\"T_4a002300_c522_11ea_bc0c_d4258b8a2cfcrow1_col0\" class=\"data row1 col0\" >0.0175488</td>\n",
       "                        <td id=\"T_4a002300_c522_11ea_bc0c_d4258b8a2cfcrow1_col1\" class=\"data row1 col1\" >1</td>\n",
       "                        <td id=\"T_4a002300_c522_11ea_bc0c_d4258b8a2cfcrow1_col2\" class=\"data row1 col2\" >0.025622</td>\n",
       "                        <td id=\"T_4a002300_c522_11ea_bc0c_d4258b8a2cfcrow1_col3\" class=\"data row1 col3\" >0.0495925</td>\n",
       "                        <td id=\"T_4a002300_c522_11ea_bc0c_d4258b8a2cfcrow1_col4\" class=\"data row1 col4\" >0.0544199</td>\n",
       "                        <td id=\"T_4a002300_c522_11ea_bc0c_d4258b8a2cfcrow1_col5\" class=\"data row1 col5\" >-0.0485201</td>\n",
       "                        <td id=\"T_4a002300_c522_11ea_bc0c_d4258b8a2cfcrow1_col6\" class=\"data row1 col6\" >-0.210567</td>\n",
       "            </tr>\n",
       "            <tr>\n",
       "                        <th id=\"T_4a002300_c522_11ea_bc0c_d4258b8a2cfclevel0_row2\" class=\"row_heading level0 row2\" >X3 distance to the nearest MRT station</th>\n",
       "                        <td id=\"T_4a002300_c522_11ea_bc0c_d4258b8a2cfcrow2_col0\" class=\"data row2 col0\" >0.06088</td>\n",
       "                        <td id=\"T_4a002300_c522_11ea_bc0c_d4258b8a2cfcrow2_col1\" class=\"data row2 col1\" >0.025622</td>\n",
       "                        <td id=\"T_4a002300_c522_11ea_bc0c_d4258b8a2cfcrow2_col2\" class=\"data row2 col2\" >1</td>\n",
       "                        <td id=\"T_4a002300_c522_11ea_bc0c_d4258b8a2cfcrow2_col3\" class=\"data row2 col3\" >-0.602519</td>\n",
       "                        <td id=\"T_4a002300_c522_11ea_bc0c_d4258b8a2cfcrow2_col4\" class=\"data row2 col4\" >-0.591067</td>\n",
       "                        <td id=\"T_4a002300_c522_11ea_bc0c_d4258b8a2cfcrow2_col5\" class=\"data row2 col5\" >-0.806317</td>\n",
       "                        <td id=\"T_4a002300_c522_11ea_bc0c_d4258b8a2cfcrow2_col6\" class=\"data row2 col6\" >-0.673613</td>\n",
       "            </tr>\n",
       "            <tr>\n",
       "                        <th id=\"T_4a002300_c522_11ea_bc0c_d4258b8a2cfclevel0_row3\" class=\"row_heading level0 row3\" >X4 number of convenience stores</th>\n",
       "                        <td id=\"T_4a002300_c522_11ea_bc0c_d4258b8a2cfcrow3_col0\" class=\"data row3 col0\" >0.00963544</td>\n",
       "                        <td id=\"T_4a002300_c522_11ea_bc0c_d4258b8a2cfcrow3_col1\" class=\"data row3 col1\" >0.0495925</td>\n",
       "                        <td id=\"T_4a002300_c522_11ea_bc0c_d4258b8a2cfcrow3_col2\" class=\"data row3 col2\" >-0.602519</td>\n",
       "                        <td id=\"T_4a002300_c522_11ea_bc0c_d4258b8a2cfcrow3_col3\" class=\"data row3 col3\" >1</td>\n",
       "                        <td id=\"T_4a002300_c522_11ea_bc0c_d4258b8a2cfcrow3_col4\" class=\"data row3 col4\" >0.444143</td>\n",
       "                        <td id=\"T_4a002300_c522_11ea_bc0c_d4258b8a2cfcrow3_col5\" class=\"data row3 col5\" >0.449099</td>\n",
       "                        <td id=\"T_4a002300_c522_11ea_bc0c_d4258b8a2cfcrow3_col6\" class=\"data row3 col6\" >0.571005</td>\n",
       "            </tr>\n",
       "            <tr>\n",
       "                        <th id=\"T_4a002300_c522_11ea_bc0c_d4258b8a2cfclevel0_row4\" class=\"row_heading level0 row4\" >X5 latitude</th>\n",
       "                        <td id=\"T_4a002300_c522_11ea_bc0c_d4258b8a2cfcrow4_col0\" class=\"data row4 col0\" >0.0350578</td>\n",
       "                        <td id=\"T_4a002300_c522_11ea_bc0c_d4258b8a2cfcrow4_col1\" class=\"data row4 col1\" >0.0544199</td>\n",
       "                        <td id=\"T_4a002300_c522_11ea_bc0c_d4258b8a2cfcrow4_col2\" class=\"data row4 col2\" >-0.591067</td>\n",
       "                        <td id=\"T_4a002300_c522_11ea_bc0c_d4258b8a2cfcrow4_col3\" class=\"data row4 col3\" >0.444143</td>\n",
       "                        <td id=\"T_4a002300_c522_11ea_bc0c_d4258b8a2cfcrow4_col4\" class=\"data row4 col4\" >1</td>\n",
       "                        <td id=\"T_4a002300_c522_11ea_bc0c_d4258b8a2cfcrow4_col5\" class=\"data row4 col5\" >0.412924</td>\n",
       "                        <td id=\"T_4a002300_c522_11ea_bc0c_d4258b8a2cfcrow4_col6\" class=\"data row4 col6\" >0.546307</td>\n",
       "            </tr>\n",
       "            <tr>\n",
       "                        <th id=\"T_4a002300_c522_11ea_bc0c_d4258b8a2cfclevel0_row5\" class=\"row_heading level0 row5\" >X6 longitude</th>\n",
       "                        <td id=\"T_4a002300_c522_11ea_bc0c_d4258b8a2cfcrow5_col0\" class=\"data row5 col0\" >-0.0410818</td>\n",
       "                        <td id=\"T_4a002300_c522_11ea_bc0c_d4258b8a2cfcrow5_col1\" class=\"data row5 col1\" >-0.0485201</td>\n",
       "                        <td id=\"T_4a002300_c522_11ea_bc0c_d4258b8a2cfcrow5_col2\" class=\"data row5 col2\" >-0.806317</td>\n",
       "                        <td id=\"T_4a002300_c522_11ea_bc0c_d4258b8a2cfcrow5_col3\" class=\"data row5 col3\" >0.449099</td>\n",
       "                        <td id=\"T_4a002300_c522_11ea_bc0c_d4258b8a2cfcrow5_col4\" class=\"data row5 col4\" >0.412924</td>\n",
       "                        <td id=\"T_4a002300_c522_11ea_bc0c_d4258b8a2cfcrow5_col5\" class=\"data row5 col5\" >1</td>\n",
       "                        <td id=\"T_4a002300_c522_11ea_bc0c_d4258b8a2cfcrow5_col6\" class=\"data row5 col6\" >0.523287</td>\n",
       "            </tr>\n",
       "            <tr>\n",
       "                        <th id=\"T_4a002300_c522_11ea_bc0c_d4258b8a2cfclevel0_row6\" class=\"row_heading level0 row6\" >Y house price of unit area</th>\n",
       "                        <td id=\"T_4a002300_c522_11ea_bc0c_d4258b8a2cfcrow6_col0\" class=\"data row6 col0\" >0.0874906</td>\n",
       "                        <td id=\"T_4a002300_c522_11ea_bc0c_d4258b8a2cfcrow6_col1\" class=\"data row6 col1\" >-0.210567</td>\n",
       "                        <td id=\"T_4a002300_c522_11ea_bc0c_d4258b8a2cfcrow6_col2\" class=\"data row6 col2\" >-0.673613</td>\n",
       "                        <td id=\"T_4a002300_c522_11ea_bc0c_d4258b8a2cfcrow6_col3\" class=\"data row6 col3\" >0.571005</td>\n",
       "                        <td id=\"T_4a002300_c522_11ea_bc0c_d4258b8a2cfcrow6_col4\" class=\"data row6 col4\" >0.546307</td>\n",
       "                        <td id=\"T_4a002300_c522_11ea_bc0c_d4258b8a2cfcrow6_col5\" class=\"data row6 col5\" >0.523287</td>\n",
       "                        <td id=\"T_4a002300_c522_11ea_bc0c_d4258b8a2cfcrow6_col6\" class=\"data row6 col6\" >1</td>\n",
       "            </tr>\n",
       "    </tbody></table>"
      ],
      "text/plain": [
       "<pandas.io.formats.style.Styler at 0x1beb021ada0>"
      ]
     },
     "execution_count": 4,
     "metadata": {},
     "output_type": "execute_result"
    }
   ],
   "source": [
    "corr = dataset.corr()\n",
    "corr.style.background_gradient(cmap='coolwarm')"
   ]
  },
  {
   "cell_type": "markdown",
   "metadata": {},
   "source": [
    "### Splitting the dataset"
   ]
  },
  {
   "cell_type": "code",
   "execution_count": 5,
   "metadata": {},
   "outputs": [],
   "source": [
    "from sklearn.model_selection import train_test_split\n",
    "X_train, X_test, y_train, y_test = train_test_split(X, y, test_size=0.2, random_state=0)"
   ]
  },
  {
   "cell_type": "markdown",
   "metadata": {},
   "source": [
    "### Feature scaling\n",
    "\n",
    "We don't have to apply feature scaling because indeed the decision to regression\n",
    "more works with splits. It splits the features in different successive ranges which is \n",
    "a technique that absolutely doesn't need feature scaling.\n",
    "It doesn't have to do with any coefficients or whatsoever. It is just because you split your dataset\n",
    "through different node in order to collect and different final ranges your final predictions for different\n",
    "ranges of values of the features.\n",
    "\n",
    "So you clearly don't need to apply feature scaling."
   ]
  },
  {
   "cell_type": "code",
   "execution_count": 114,
   "metadata": {},
   "outputs": [],
   "source": [
    "from sklearn.preprocessing import StandardScaler\n",
    "\n",
    "train_feature_scaler = StandardScaler()\n",
    "test_feature_scaler = StandardScaler()\n",
    "\n",
    "X_train = train_feature_scaler.fit_transform(X_train)\n",
    "X_test = test_feature_scaler.fit_transform(X_test)"
   ]
  },
  {
   "cell_type": "code",
   "execution_count": 112,
   "metadata": {},
   "outputs": [
    {
     "data": {
      "text/plain": [
       "array([-1.08e+00, -6.34e-01,  3.09e-02, -3.48e-02, -2.69e-01,  4.98e-01,\n",
       "        1.20e+00, -5.58e-03, -2.22e+00, -6.19e-01, -9.26e-01, -1.77e+00,\n",
       "       -5.83e-01, -5.24e-01,  1.92e-01, -1.26e+00,  2.06e-01,  1.27e+00,\n",
       "        1.84e-01,  2.06e-01,  1.70e-01, -3.56e-01, -8.60e-01,  2.87e-01,\n",
       "       -1.40e+00,  2.92e+00, -1.63e+00,  1.04e-01,  2.21e-01, -1.06e+00,\n",
       "       -1.74e-01,  6.66e-01, -1.74e-01,  1.24e+00,  2.57e-01, -4.21e-02,\n",
       "       -1.18e+00, -4.88e-01, -8.59e-02, -8.31e-01,  1.48e-01,  8.78e-01,\n",
       "        9.03e-03,  1.57e+00,  1.37e+00, -9.26e-01, -4.07e-01, -1.29e-02,\n",
       "        8.64e-01,  1.08e+00, -1.18e+00, -6.70e-01, -6.34e-01, -4.21e-02,\n",
       "       -4.21e-02,  4.40e-01,  9.29e-01,  3.16e-01, -1.08e-01,  9.80e-01,\n",
       "       -3.71e-01,  4.55e-02, -1.21e+00,  9.07e-01, -4.21e-02,  1.04e+00,\n",
       "        1.52e+00,  4.25e-01, -1.16e+00,  1.12e+00, -1.50e+00,  5.64e-01,\n",
       "       -1.01e-01,  1.26e-01, -1.65e+00, -1.88e+00,  6.30e-01, -4.88e-01,\n",
       "       -1.15e+00, -1.09e+00, -1.50e+00,  6.44e-01, -3.71e-01,  1.82e+00,\n",
       "       -9.11e-01,  3.08e-01,  3.30e-01,  1.11e-01,  8.27e-01, -4.88e-01,\n",
       "       -1.93e+00,  1.25e+00, -1.39e+00, -2.47e-01,  9.37e-01,  1.84e+00,\n",
       "        3.96e-01, -2.10e-01, -7.80e-01,  2.35e-01, -5.67e-02, -1.09e+00,\n",
       "       -1.70e+00, -2.83e-01, -3.48e-02,  2.94e-01, -9.04e-01,  1.12e+00,\n",
       "        2.50e-01, -1.31e+00,  6.88e-01, -9.70e-01,  3.82e-02,  8.05e-01,\n",
       "        1.40e+00,  1.31e+00, -7.86e-02, -9.04e-01, -1.26e+00, -7.13e-02,\n",
       "       -6.19e-01, -3.20e-01,  6.81e-01, -1.03e+00, -1.44e+00, -1.66e-01,\n",
       "        2.17e+00,  1.92e-01,  4.03e-01, -5.02e-01,  1.01e+00,  1.75e+00,\n",
       "        1.34e+00,  1.85e+00,  7.39e-01, -1.42e+00, -1.28e+00, -1.25e+00,\n",
       "       -7.80e-01, -8.31e-01, -2.90e-01,  1.04e+00,  1.37e+00,  6.02e-02,\n",
       "        4.40e-01,  1.26e-01,  1.16e+00, -5.39e-01,  3.16e-01,  2.21e-01,\n",
       "       -1.60e+00,  1.04e-01,  2.60e+00,  4.76e-01, -9.32e-02, -5.46e-01,\n",
       "       -1.61e+00,  3.16e-01, -2.83e-01, -8.38e-01, -9.92e-01, -4.58e-01,\n",
       "        2.06e-01, -1.04e+00, -6.85e-01,  1.46e+00, -4.94e-02,  3.60e-01,\n",
       "       -7.21e-01,  6.30e-01,  1.45e+00, -5.46e-01,  1.19e-01, -1.48e+00,\n",
       "        1.92e-01, -7.80e-01,  9.95e-01,  1.26e-01, -6.63e-01,  2.35e+00,\n",
       "        5.42e-01, -6.99e-01, -1.96e+00,  3.30e-01,  7.48e-02, -5.31e-01,\n",
       "        1.19e-01, -1.15e+00,  6.59e-01,  7.10e-01, -1.09e+00, -1.84e+00,\n",
       "       -8.09e-01,  1.23e+00,  1.04e+00,  7.76e-01, -9.04e-01, -1.18e+00,\n",
       "        3.52e-01, -1.95e-01,  8.56e-01,  1.84e-01, -1.05e+00, -1.11e+00,\n",
       "        1.70e-01,  1.85e+00,  1.47e+00, -9.70e-01, -8.02e-01, -1.04e+00,\n",
       "       -1.10e+00,  3.30e-01, -1.12e+00, -1.44e+00,  5.81e+00,  4.55e-01,\n",
       "        2.14e-01, -1.84e+00, -1.37e+00,  2.35e-01,  5.50e-01,  7.69e-01,\n",
       "       -7.51e-01, -4.22e-01, -3.48e-02, -1.17e+00,  7.25e-01, -2.83e-01,\n",
       "       -5.58e-03,  5.79e-01, -8.97e-01,  9.51e-01, -6.26e-01, -7.51e-01,\n",
       "       -9.32e-02, -8.38e-01,  2.21e-01, -6.34e-01,  1.01e+00, -3.56e-01,\n",
       "       -1.06e+00,  2.94e-01,  1.24e+00, -1.80e+00, -2.76e-01, -5.02e-01,\n",
       "        1.62e-01,  5.20e-01,  1.55e-01, -1.64e+00, -5.31e-01,  3.01e-01,\n",
       "        1.06e+00,  1.10e+00, -4.88e-01,  5.93e-01,  4.18e-01,  7.32e-01,\n",
       "        5.20e-01,  2.32e+00,  3.82e-01,  7.39e-01,  2.28e-01,  1.58e+00,\n",
       "        1.20e+00,  1.13e+00, -2.02e-02,  4.33e-01,  3.74e-01, -2.39e-01,\n",
       "        2.41e+00,  6.81e-01, -6.34e-01, -9.62e-01,  7.10e-01,  6.75e-02,\n",
       "        6.66e-01,  1.66e+00, -7.13e-02,  6.59e-01, -1.40e+00,  1.28e+00,\n",
       "        4.91e-01, -1.19e+00, -4.73e-01, -9.48e-01, -2.76e-01,  1.24e+00,\n",
       "       -1.20e+00,  6.30e-01,  9.51e-01, -1.04e+00,  3.82e-01,  1.27e+00,\n",
       "        1.70e-01,  2.94e-01,  1.77e+00, -1.22e-01, -1.08e-01,  7.47e-01,\n",
       "        7.47e-01,  6.15e-01,  9.03e-03, -1.22e-01,  3.09e-02, -8.02e-01,\n",
       "       -5.39e-01, -5.17e-01, -1.09e+00,  5.28e-01, -1.81e-01,  6.01e-01,\n",
       "        8.27e-01,  2.65e-01, -4.44e-01,  7.32e-01,  1.54e+00, -1.44e+00,\n",
       "       -9.84e-01, -3.34e-01, -7.51e-01,  4.03e-01, -1.16e+00, -9.70e-01,\n",
       "       -2.47e-01, -1.77e+00,  3.30e-01,  3.45e-01, -1.82e+00,  1.72e+00,\n",
       "        1.47e+00])"
      ]
     },
     "execution_count": 112,
     "metadata": {},
     "output_type": "execute_result"
    }
   ],
   "source": [
    "train_predictor_scaler = StandardScaler()\n",
    "test_predictor_scaler = StandardScaler()\n",
    "\n",
    "y_train_scaled = train_predictor_scaler.fit_transform(np.expand_dims(y_train, axis=1))\n",
    "y_test_scaled = test_predictor_scaler.fit_transform(np.expand_dims(y_test, axis=1))\n",
    "\n",
    "y_train = y_train_scaled.reshape(len(y_train), )\n",
    "y_test = y_test_scaled.reshape(len(y_test), )"
   ]
  },
  {
   "cell_type": "markdown",
   "metadata": {},
   "source": [
    "### Training the model\n",
    "\n",
    "<a href=\"https://scikit-learn.org/stable/modules/generated/sklearn.tree.DecisionTreeRegressor.html\"> DecisionTreeRegressor </a>"
   ]
  },
  {
   "cell_type": "code",
   "execution_count": 6,
   "metadata": {},
   "outputs": [
    {
     "data": {
      "text/plain": [
       "DecisionTreeRegressor(criterion='mse', max_depth=2, max_features=None,\n",
       "           max_leaf_nodes=None, min_impurity_decrease=0.0,\n",
       "           min_impurity_split=None, min_samples_leaf=1,\n",
       "           min_samples_split=2, min_weight_fraction_leaf=0.0,\n",
       "           presort=False, random_state=None, splitter='best')"
      ]
     },
     "execution_count": 6,
     "metadata": {},
     "output_type": "execute_result"
    }
   ],
   "source": [
    "from sklearn.tree import DecisionTreeRegressor\n",
    "tree_regressor = DecisionTreeRegressor(max_depth=2)\n",
    "tree_regressor.fit(X_train, y_train)"
   ]
  },
  {
   "cell_type": "code",
   "execution_count": 7,
   "metadata": {},
   "outputs": [],
   "source": [
    "y_predicted = tree_regressor.predict(X_test)\n",
    "\n",
    "np.set_printoptions(precision=2)\n",
    "y_predicted = np.expand_dims(y_predicted, axis=1)\n",
    "y_test = np.reshape(y_test, newshape=(len(y_test), 1))"
   ]
  },
  {
   "cell_type": "markdown",
   "metadata": {},
   "source": [
    "### Visualizing the results"
   ]
  },
  {
   "cell_type": "code",
   "execution_count": 8,
   "metadata": {},
   "outputs": [
    {
     "name": "stdout",
     "output_type": "stream",
     "text": [
      "(83, 1)\n",
      "(83, 1)\n"
     ]
    }
   ],
   "source": [
    "print(y_test.shape)\n",
    "print(y_predicted.shape)\n",
    "\n",
    "np.concatenate((y_predicted, y_test), axis=1);"
   ]
  },
  {
   "cell_type": "markdown",
   "metadata": {},
   "source": [
    "### Score calculation"
   ]
  },
  {
   "cell_type": "code",
   "execution_count": 9,
   "metadata": {},
   "outputs": [
    {
     "data": {
      "text/plain": [
       "0.6480639711400162"
      ]
     },
     "execution_count": 9,
     "metadata": {},
     "output_type": "execute_result"
    }
   ],
   "source": [
    "score = tree_regressor.score(X_test, y_test)\n",
    "score"
   ]
  },
  {
   "cell_type": "code",
   "execution_count": 10,
   "metadata": {},
   "outputs": [
    {
     "data": {
      "text/plain": [
       "0.6480639711400162"
      ]
     },
     "execution_count": 10,
     "metadata": {},
     "output_type": "execute_result"
    }
   ],
   "source": [
    "from sklearn.metrics import r2_score\n",
    "r2Score = r2_score(y_test, y_predicted)\n",
    "r2Score"
   ]
  },
  {
   "cell_type": "markdown",
   "metadata": {},
   "source": [
    "### With bagging\n",
    "\n",
    " - The Approach is to use the same training algorithm for every <br>\n",
    " predictor, but to train them on different random subsets of the training set. \n",
    "\n",
    " \n",
    " - When sampling is performed with replacement, this method is called bagging (short for <br>\n",
    " bootstrap aggregating). When sampling is performed without replacement, it is called <br>\n",
    " pasting.\n",
    " \n",
    "\n",
    " - Once all predictors are trained, the ensemble can make a prediction for a new <br>\n",
    " instance by simply aggregating the predictions of all predictors. The aggregation <br>\n",
    " function is typically the statistical mode.\n",
    "\n",
    "<a href=\"https://scikit-learn.org/stable/modules/generated/sklearn.ensemble.BaggingRegressor.html\"> BaggingRegressor </a>"
   ]
  },
  {
   "cell_type": "code",
   "execution_count": 43,
   "metadata": {},
   "outputs": [],
   "source": [
    "from sklearn.ensemble import BaggingRegressor\n",
    "bagging_regressor = BaggingRegressor(base_estimator = DecisionTreeRegressor(),\n",
    "                 n_estimators = 100,\n",
    "                 bootstrap = True,\n",
    "                 oob_score = True)"
   ]
  },
  {
   "cell_type": "code",
   "execution_count": 44,
   "metadata": {},
   "outputs": [
    {
     "data": {
      "text/plain": [
       "BaggingRegressor(base_estimator=DecisionTreeRegressor(criterion='mse', max_depth=None, max_features=None,\n",
       "           max_leaf_nodes=None, min_impurity_decrease=0.0,\n",
       "           min_impurity_split=None, min_samples_leaf=1,\n",
       "           min_samples_split=2, min_weight_fraction_leaf=0.0,\n",
       "           presort=False, random_state=None, splitter='best'),\n",
       "         bootstrap=True, bootstrap_features=False, max_features=1.0,\n",
       "         max_samples=1.0, n_estimators=100, n_jobs=None, oob_score=True,\n",
       "         random_state=None, verbose=0, warm_start=False)"
      ]
     },
     "execution_count": 44,
     "metadata": {},
     "output_type": "execute_result"
    }
   ],
   "source": [
    "bagging_regressor.fit(X_train, y_train)"
   ]
  },
  {
   "cell_type": "code",
   "execution_count": 45,
   "metadata": {},
   "outputs": [
    {
     "data": {
      "text/plain": [
       "0.7224933451573536"
      ]
     },
     "execution_count": 45,
     "metadata": {},
     "output_type": "execute_result"
    }
   ],
   "source": [
    "y_predicted = bagging_regressor.predict(X_test)\n",
    "\n",
    "y_predicted = np.expand_dims(y_predicted, axis=1)\n",
    "y_test = np.reshape(y_test, newshape=(len(y_test), 1))\n",
    "\n",
    "np.concatenate((y_predicted, y_test), axis=1);\n",
    "score = bagging_regressor.score(X_test, y_test)\n",
    "score"
   ]
  }
 ],
 "metadata": {
  "kernelspec": {
   "display_name": "Python 3",
   "language": "python",
   "name": "python3"
  },
  "language_info": {
   "codemirror_mode": {
    "name": "ipython",
    "version": 3
   },
   "file_extension": ".py",
   "mimetype": "text/x-python",
   "name": "python",
   "nbconvert_exporter": "python",
   "pygments_lexer": "ipython3",
   "version": "3.6.4"
  }
 },
 "nbformat": 4,
 "nbformat_minor": 2
}
