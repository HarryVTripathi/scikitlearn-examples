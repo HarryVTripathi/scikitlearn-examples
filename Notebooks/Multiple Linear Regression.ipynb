{
 "cells": [
  {
   "cell_type": "markdown",
   "metadata": {},
   "source": [
    "### Assumption of linear regression\n",
    "\n",
    "<ol>\n",
    "    <li> Linearity </li>\n",
    "    <li> Homoscedasticity </li>\n",
    "    <li> Mulitvariate Normality </li>\n",
    "    <li> Independence of erros </li>\n",
    "    <li> Lack of mulit-collinearity </li>\n",
    "</ol>"
   ]
  },
  {
   "cell_type": "markdown",
   "metadata": {},
   "source": [
    "#### Dummy variable trap\n",
    "\n",
    "<li> N - categories have N-1 DOF. </li>\n",
    "<li> N - dummy variables for N categories results in multi-collinearity </li>\n"
   ]
  },
  {
   "cell_type": "markdown",
   "metadata": {},
   "source": [
    "### Importing dependency libraries and dataset"
   ]
  },
  {
   "cell_type": "code",
   "execution_count": 68,
   "metadata": {},
   "outputs": [],
   "source": [
    "import numpy as np\n",
    "import pandas as pd\n",
    "import matplotlib.pyplot as plt"
   ]
  },
  {
   "cell_type": "code",
   "execution_count": 69,
   "metadata": {},
   "outputs": [],
   "source": [
    "dataset = pd.read_csv('50_Startups.csv')\n",
    "X = dataset.iloc[:, :-1].values # iloc: index location\n",
    "y = dataset.iloc[:, -1].values"
   ]
  },
  {
   "cell_type": "code",
   "execution_count": 70,
   "metadata": {},
   "outputs": [
    {
     "data": {
      "image/png": "[encoded data removed]",
      "text/plain": [
       "<Figure size 288x288 with 1 Axes>"
      ]
     },
     "metadata": {},
     "output_type": "display_data"
    }
   ],
   "source": [
    "plt.matshow(dataset.corr())\n",
    "plt.show()"
   ]
  },
  {
   "cell_type": "code",
   "execution_count": 71,
   "metadata": {},
   "outputs": [
    {
     "data": {
      "text/html": [
       "<style  type=\"text/css\" >\n",
       "    #T_71b5ff82_bed4_11ea_aac8_d4258b8a2cfcrow0_col0 {\n",
       "            background-color:  #b40426;\n",
       "            color:  #f1f1f1;\n",
       "        }    #T_71b5ff82_bed4_11ea_aac8_d4258b8a2cfcrow0_col1 {\n",
       "            background-color:  #92b4fe;\n",
       "            color:  #000000;\n",
       "        }    #T_71b5ff82_bed4_11ea_aac8_d4258b8a2cfcrow0_col2 {\n",
       "            background-color:  #f5a081;\n",
       "            color:  #000000;\n",
       "        }    #T_71b5ff82_bed4_11ea_aac8_d4258b8a2cfcrow0_col3 {\n",
       "            background-color:  #c0282f;\n",
       "            color:  #f1f1f1;\n",
       "        }    #T_71b5ff82_bed4_11ea_aac8_d4258b8a2cfcrow1_col0 {\n",
       "            background-color:  #3b4cc0;\n",
       "            color:  #f1f1f1;\n",
       "        }    #T_71b5ff82_bed4_11ea_aac8_d4258b8a2cfcrow1_col1 {\n",
       "            background-color:  #b40426;\n",
       "            color:  #f1f1f1;\n",
       "        }    #T_71b5ff82_bed4_11ea_aac8_d4258b8a2cfcrow1_col2 {\n",
       "            background-color:  #3b4cc0;\n",
       "            color:  #f1f1f1;\n",
       "        }    #T_71b5ff82_bed4_11ea_aac8_d4258b8a2cfcrow1_col3 {\n",
       "            background-color:  #3b4cc0;\n",
       "            color:  #f1f1f1;\n",
       "        }    #T_71b5ff82_bed4_11ea_aac8_d4258b8a2cfcrow2_col0 {\n",
       "            background-color:  #f5c1a9;\n",
       "            color:  #000000;\n",
       "        }    #T_71b5ff82_bed4_11ea_aac8_d4258b8a2cfcrow2_col1 {\n",
       "            background-color:  #3b4cc0;\n",
       "            color:  #f1f1f1;\n",
       "        }    #T_71b5ff82_bed4_11ea_aac8_d4258b8a2cfcrow2_col2 {\n",
       "            background-color:  #b40426;\n",
       "            color:  #f1f1f1;\n",
       "        }    #T_71b5ff82_bed4_11ea_aac8_d4258b8a2cfcrow2_col3 {\n",
       "            background-color:  #f7b194;\n",
       "            color:  #000000;\n",
       "        }    #T_71b5ff82_bed4_11ea_aac8_d4258b8a2cfcrow3_col0 {\n",
       "            background-color:  #c12b30;\n",
       "            color:  #f1f1f1;\n",
       "        }    #T_71b5ff82_bed4_11ea_aac8_d4258b8a2cfcrow3_col1 {\n",
       "            background-color:  #84a7fc;\n",
       "            color:  #000000;\n",
       "        }    #T_71b5ff82_bed4_11ea_aac8_d4258b8a2cfcrow3_col2 {\n",
       "            background-color:  #f39778;\n",
       "            color:  #000000;\n",
       "        }    #T_71b5ff82_bed4_11ea_aac8_d4258b8a2cfcrow3_col3 {\n",
       "            background-color:  #b40426;\n",
       "            color:  #f1f1f1;\n",
       "        }</style><table id=\"T_71b5ff82_bed4_11ea_aac8_d4258b8a2cfc\" ><thead>    <tr>        <th class=\"blank level0\" ></th>        <th class=\"col_heading level0 col0\" >R&D Spend</th>        <th class=\"col_heading level0 col1\" >Administration</th>        <th class=\"col_heading level0 col2\" >Marketing Spend</th>        <th class=\"col_heading level0 col3\" >Profit</th>    </tr></thead><tbody>\n",
       "                <tr>\n",
       "                        <th id=\"T_71b5ff82_bed4_11ea_aac8_d4258b8a2cfclevel0_row0\" class=\"row_heading level0 row0\" >R&D Spend</th>\n",
       "                        <td id=\"T_71b5ff82_bed4_11ea_aac8_d4258b8a2cfcrow0_col0\" class=\"data row0 col0\" >1</td>\n",
       "                        <td id=\"T_71b5ff82_bed4_11ea_aac8_d4258b8a2cfcrow0_col1\" class=\"data row0 col1\" >0.241955</td>\n",
       "                        <td id=\"T_71b5ff82_bed4_11ea_aac8_d4258b8a2cfcrow0_col2\" class=\"data row0 col2\" >0.724248</td>\n",
       "                        <td id=\"T_71b5ff82_bed4_11ea_aac8_d4258b8a2cfcrow0_col3\" class=\"data row0 col3\" >0.9729</td>\n",
       "            </tr>\n",
       "            <tr>\n",
       "                        <th id=\"T_71b5ff82_bed4_11ea_aac8_d4258b8a2cfclevel0_row1\" class=\"row_heading level0 row1\" >Administration</th>\n",
       "                        <td id=\"T_71b5ff82_bed4_11ea_aac8_d4258b8a2cfcrow1_col0\" class=\"data row1 col0\" >0.241955</td>\n",
       "                        <td id=\"T_71b5ff82_bed4_11ea_aac8_d4258b8a2cfcrow1_col1\" class=\"data row1 col1\" >1</td>\n",
       "                        <td id=\"T_71b5ff82_bed4_11ea_aac8_d4258b8a2cfcrow1_col2\" class=\"data row1 col2\" >-0.0321539</td>\n",
       "                        <td id=\"T_71b5ff82_bed4_11ea_aac8_d4258b8a2cfcrow1_col3\" class=\"data row1 col3\" >0.200717</td>\n",
       "            </tr>\n",
       "            <tr>\n",
       "                        <th id=\"T_71b5ff82_bed4_11ea_aac8_d4258b8a2cfclevel0_row2\" class=\"row_heading level0 row2\" >Marketing Spend</th>\n",
       "                        <td id=\"T_71b5ff82_bed4_11ea_aac8_d4258b8a2cfcrow2_col0\" class=\"data row2 col0\" >0.724248</td>\n",
       "                        <td id=\"T_71b5ff82_bed4_11ea_aac8_d4258b8a2cfcrow2_col1\" class=\"data row2 col1\" >-0.0321539</td>\n",
       "                        <td id=\"T_71b5ff82_bed4_11ea_aac8_d4258b8a2cfcrow2_col2\" class=\"data row2 col2\" >1</td>\n",
       "                        <td id=\"T_71b5ff82_bed4_11ea_aac8_d4258b8a2cfcrow2_col3\" class=\"data row2 col3\" >0.747766</td>\n",
       "            </tr>\n",
       "            <tr>\n",
       "                        <th id=\"T_71b5ff82_bed4_11ea_aac8_d4258b8a2cfclevel0_row3\" class=\"row_heading level0 row3\" >Profit</th>\n",
       "                        <td id=\"T_71b5ff82_bed4_11ea_aac8_d4258b8a2cfcrow3_col0\" class=\"data row3 col0\" >0.9729</td>\n",
       "                        <td id=\"T_71b5ff82_bed4_11ea_aac8_d4258b8a2cfcrow3_col1\" class=\"data row3 col1\" >0.200717</td>\n",
       "                        <td id=\"T_71b5ff82_bed4_11ea_aac8_d4258b8a2cfcrow3_col2\" class=\"data row3 col2\" >0.747766</td>\n",
       "                        <td id=\"T_71b5ff82_bed4_11ea_aac8_d4258b8a2cfcrow3_col3\" class=\"data row3 col3\" >1</td>\n",
       "            </tr>\n",
       "    </tbody></table>"
      ],
      "text/plain": [
       "<pandas.io.formats.style.Styler at 0x224fde0e828>"
      ]
     },
     "execution_count": 71,
     "metadata": {},
     "output_type": "execute_result"
    }
   ],
   "source": [
    "corr = dataset.corr()\n",
    "corr.style.background_gradient(cmap='coolwarm')"
   ]
  },
  {
   "cell_type": "markdown",
   "metadata": {},
   "source": [
    "### Encoding categorical data"
   ]
  },
  {
   "cell_type": "code",
   "execution_count": 72,
   "metadata": {},
   "outputs": [],
   "source": [
    "from sklearn.compose import ColumnTransformer\n",
    "from sklearn.preprocessing import OneHotEncoder\n",
    "\n",
    "# https://scikit-learn.org/stable/modules/generated/sklearn.compose.ColumnTransformer.html\n",
    "# transformers = list of transformer tuples (name, transformer, columns)\n",
    "# transformer = instance of the transformer\n",
    "# columns = columns, we want to transformer\n",
    "# returns ColumnTransformer instance\n",
    "\n",
    "ct = ColumnTransformer(transformers=[('encoder', OneHotEncoder(), [3])], remainder='passthrough')\n",
    "X = np.array(ct.fit_transform(X))"
   ]
  },
  {
   "cell_type": "code",
   "execution_count": 73,
   "metadata": {},
   "outputs": [
    {
     "data": {
      "text/plain": [
       "array([[0.0, 0.0, 1.0, 165349.2, 136897.8, 471784.1],\n",
       "       [1.0, 0.0, 0.0, 162597.7, 151377.59, 443898.53],\n",
       "       [0.0, 1.0, 0.0, 153441.51, 101145.55, 407934.54],\n",
       "       [0.0, 0.0, 1.0, 144372.41, 118671.85, 383199.62],\n",
       "       [0.0, 1.0, 0.0, 142107.34, 91391.77, 366168.42]], dtype=object)"
      ]
     },
     "execution_count": 73,
     "metadata": {},
     "output_type": "execute_result"
    }
   ],
   "source": [
    "X[:5]"
   ]
  },
  {
   "cell_type": "markdown",
   "metadata": {},
   "source": [
    "### Training and Testing\n",
    "\n",
    " - We have 3 columns for 3 categories.\n",
    " - Clearly, one of them is redundent.\n",
    "\n",
    "LinearRegression Class will by default avoid this trap.\n",
    "\n",
    "LinearRegression Class will also identify the best features <br>\n",
    "(the features which have the highest p-values and so are the most <br>\n",
    "statistically significant)."
   ]
  },
  {
   "cell_type": "code",
   "execution_count": 74,
   "metadata": {},
   "outputs": [],
   "source": [
    "from sklearn.model_selection import train_test_split\n",
    "X_train, X_test, y_train, y_test = train_test_split(X, y, test_size=0.2, random_state=0)"
   ]
  },
  {
   "cell_type": "code",
   "execution_count": 75,
   "metadata": {},
   "outputs": [
    {
     "data": {
      "text/plain": [
       "LinearRegression(copy_X=True, fit_intercept=True, n_jobs=None,\n",
       "         normalize=False)"
      ]
     },
     "execution_count": 75,
     "metadata": {},
     "output_type": "execute_result"
    }
   ],
   "source": [
    "from sklearn.linear_model import LinearRegression\n",
    "\n",
    "# return untrained model (with unitialized or random parameters - regression coefficients in this case)\n",
    "regressor = LinearRegression()\n",
    "regressor.fit(X=X_train, y=y_train)"
   ]
  },
  {
   "cell_type": "markdown",
   "metadata": {},
   "source": [
    "### Predicting the test results"
   ]
  },
  {
   "cell_type": "code",
   "execution_count": 76,
   "metadata": {},
   "outputs": [
    {
     "name": "stdout",
     "output_type": "stream",
     "text": [
      "[ 8.66e+01 -8.73e+02  7.86e+02  7.73e-01  3.29e-02  3.66e-02]\n",
      "42467.529248549545\n"
     ]
    },
    {
     "data": {
      "text/plain": [
       "0.9347068473282218"
      ]
     },
     "execution_count": 76,
     "metadata": {},
     "output_type": "execute_result"
    }
   ],
   "source": [
    "y_predicted = regressor.predict(X_test)\n",
    "r2Score = regressor.score(X_test, y_test)\n",
    "\n",
    "print(regressor.coef_)\n",
    "print(regressor.intercept_)\n",
    "\n",
    "r2Score"
   ]
  },
  {
   "cell_type": "code",
   "execution_count": 77,
   "metadata": {},
   "outputs": [
    {
     "data": {
      "text/plain": [
       "0.9347068473282218"
      ]
     },
     "execution_count": 77,
     "metadata": {},
     "output_type": "execute_result"
    }
   ],
   "source": [
    "from sklearn.metrics import mean_squared_error, r2_score\n",
    "r2Score = r2_score(y_test, y_predicted)\n",
    "r2Score"
   ]
  },
  {
   "cell_type": "code",
   "execution_count": 78,
   "metadata": {},
   "outputs": [
    {
     "data": {
      "text/plain": [
       "array([[103015.2 , 103282.38],\n",
       "       [132582.28, 144259.4 ],\n",
       "       [132447.74, 146121.95],\n",
       "       [ 71976.1 ,  77798.83],\n",
       "       [178537.48, 191050.39],\n",
       "       [116161.24, 105008.31],\n",
       "       [ 67851.69,  81229.06],\n",
       "       [ 98791.73,  97483.56],\n",
       "       [113969.44, 110352.25],\n",
       "       [167921.07, 166187.94]])"
      ]
     },
     "execution_count": 78,
     "metadata": {},
     "output_type": "execute_result"
    }
   ],
   "source": [
    "np.set_printoptions(precision=2)\n",
    "y_predicted = np.reshape(y_predicted, newshape=(len(y_predicted), 1))\n",
    "y_test = np.reshape(y_test, newshape=(len(y_test), 1))\n",
    "\n",
    "# https://numpy.org/doc/stable/reference/generated/numpy.concatenate.html\n",
    "np.concatenate((y_predicted, y_test), 1)"
   ]
  },
  {
   "cell_type": "markdown",
   "metadata": {},
   "source": [
    "### Cross-Validation\n",
    "\n",
    "<a href=\"https://scikit-learn.org/stable/modules/cross_validation.html\"> Cross validation </a>"
   ]
  },
  {
   "cell_type": "code",
   "execution_count": 79,
   "metadata": {},
   "outputs": [],
   "source": [
    "from sklearn.model_selection import cross_val_score, cross_validate"
   ]
  },
  {
   "cell_type": "code",
   "execution_count": 80,
   "metadata": {},
   "outputs": [
    {
     "name": "stderr",
     "output_type": "stream",
     "text": [
      "C:\\Users\\Harry\\Anaconda3\\lib\\site-packages\\sklearn\\model_selection\\_split.py:2053: FutureWarning: You should specify a value for 'cv' instead of relying on the default value. The default value will change from 3 to 5 in version 0.22.\n",
      "  warnings.warn(CV_WARNING, FutureWarning)\n"
     ]
    }
   ],
   "source": [
    "scores = cross_validate(estimator=regressor, X=X, y=y)"
   ]
  },
  {
   "cell_type": "code",
   "execution_count": 81,
   "metadata": {},
   "outputs": [
    {
     "name": "stderr",
     "output_type": "stream",
     "text": [
      "C:\\Users\\Harry\\Anaconda3\\lib\\site-packages\\sklearn\\utils\\deprecation.py:125: FutureWarning: You are accessing a training score ('train_score'), which will not be available by default any more in 0.21. If you need training scores, please set return_train_score=True\n",
      "  warnings.warn(*warn_args, **warn_kwargs)\n"
     ]
    },
    {
     "data": {
      "text/plain": [
       "{'fit_time': array([0., 0., 0.]),\n",
       " 'score_time': array([0., 0., 0.]),\n",
       " 'test_score': array([0.79, 0.51, 0.66]),\n",
       " 'train_score': array([0.89, 0.96, 0.95])}"
      ]
     },
     "execution_count": 81,
     "metadata": {},
     "output_type": "execute_result"
    }
   ],
   "source": [
    "scores"
   ]
  },
  {
   "cell_type": "code",
   "execution_count": null,
   "metadata": {},
   "outputs": [],
   "source": []
  }
 ],
 "metadata": {
  "kernelspec": {
   "display_name": "Python 3",
   "language": "python",
   "name": "python3"
  },
  "language_info": {
   "codemirror_mode": {
    "name": "ipython",
    "version": 3
   },
   "file_extension": ".py",
   "mimetype": "text/x-python",
   "name": "python",
   "nbconvert_exporter": "python",
   "pygments_lexer": "ipython3",
   "version": "3.6.4"
  }
 },
 "nbformat": 4,
 "nbformat_minor": 2
}
