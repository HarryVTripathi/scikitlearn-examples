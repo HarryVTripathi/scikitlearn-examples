{
 "cells": [
  {
   "cell_type": "markdown",
   "metadata": {},
   "source": [
    "## Support Vector Regression"
   ]
  },
  {
   "cell_type": "markdown",
   "metadata": {},
   "source": [
    "### Importing libraries and dataset"
   ]
  },
  {
   "cell_type": "code",
   "execution_count": 1,
   "metadata": {},
   "outputs": [],
   "source": [
    "import pandas as pd\n",
    "import numpy as np\n",
    "import matplotlib.pyplot as plt"
   ]
  },
  {
   "cell_type": "code",
   "execution_count": 2,
   "metadata": {},
   "outputs": [],
   "source": [
    "dataset = pd.read_csv('Position_Salaries.csv')\n",
    "\n",
    "# X = dataset.iloc[:, 1].values # returns (10, ) array\n",
    "X = dataset.iloc[:, 1: -1].values # returns (10, 1) array\n",
    "X = dataset.iloc[:, 1: -1].values\n",
    "y = dataset.iloc[:, -1].values"
   ]
  },
  {
   "cell_type": "markdown",
   "metadata": {},
   "source": [
    "### Feature scaling\n",
    "\n",
    "We did not have to apply feature scaling for linear regression where <br>\n",
    "coefficients can compensate for too high (or too low) values of features. <br>\n",
    "\n",
    "In Linear Regression, we have a well defined explicit equation, whereas we do <br>\n",
    "have that advantage for every model, like in SVR.\n",
    "\n",
    "For other models which usually have an implicit equation or an implicit relationship <br>\n",
    "between the dependent variable Y and the features X, usually for these models we have <br>\n",
    "to apply feature scaling.\n",
    "\n",
    "If we do not apply feature scaling, SVR model will not work at all. <br>\n",
    "So we have to apply feature scaling on both predictors as well as <br>\n",
    "the response variable.\n",
    "\n",
    "#### In genreral:-\n",
    "\n",
    " - Don't apply feature scaling to some dummy variables resulting from <br>\n",
    " one hot encoding.\n",
    "\n",
    " - When a dependent variable takes binary values like 0 and 1 you don't have <br>\n",
    " to apply for feature scaling either because the values are already in the <br>\n",
    " right range.\n",
    " \n",
    " - When the dependent variable takes super high values with respect to the other <br>\n",
    " features then you have to apply feature scaling to put all the features and it <br>\n",
    " had been available in the same range.\n",
    "\n",
    " - Whenever you want to split your dataset into the training set and the test set <br>\n",
    " while you have to apply feature scaling after this split.\n",
    "\n",
    "<a href=\"https://scikit-learn.org/stable/modules/generated/sklearn.preprocessing.StandardScaler.html\"> StandardScalar </a>"
   ]
  },
  {
   "cell_type": "code",
   "execution_count": 77,
   "metadata": {},
   "outputs": [
    {
     "name": "stderr",
     "output_type": "stream",
     "text": [
      "C:\\Users\\Harry\\Anaconda3\\lib\\site-packages\\sklearn\\utils\\validation.py:595: DataConversionWarning: Data with input dtype int64 was converted to float64 by StandardScaler.\n",
      "  warnings.warn(msg, DataConversionWarning)\n",
      "C:\\Users\\Harry\\Anaconda3\\lib\\site-packages\\sklearn\\utils\\validation.py:595: DataConversionWarning: Data with input dtype int64 was converted to float64 by StandardScaler.\n",
      "  warnings.warn(msg, DataConversionWarning)\n",
      "C:\\Users\\Harry\\Anaconda3\\lib\\site-packages\\sklearn\\utils\\validation.py:595: DataConversionWarning: Data with input dtype int64 was converted to float64 by StandardScaler.\n",
      "  warnings.warn(msg, DataConversionWarning)\n",
      "C:\\Users\\Harry\\Anaconda3\\lib\\site-packages\\sklearn\\utils\\validation.py:595: DataConversionWarning: Data with input dtype int64 was converted to float64 by StandardScaler.\n",
      "  warnings.warn(msg, DataConversionWarning)\n"
     ]
    }
   ],
   "source": [
    "y_scaled = np.expand_dims(y, axis=1)\n",
    "\n",
    "from sklearn.preprocessing import StandardScaler\n",
    "\n",
    "# Two different scaler objects for each of the arrays\n",
    "# because both of them are on a different scale with different\n",
    "# mean and different standard deviations.\n",
    "\n",
    "# Since it's a linear scaling, it is not going to affect\n",
    "# non-linear relation between response and predictor(s).\n",
    "\n",
    "feature_scalar = StandardScaler()\n",
    "prediction_scalar = StandardScaler()\n",
    "\n",
    "feature_scalar.fit(y_scaled)\n",
    "y_scaled = feature_scalar.transform(y_scaled)\n",
    "\n",
    "X_scaled = prediction_scalar.fit_transform(X)"
   ]
  },
  {
   "cell_type": "code",
   "execution_count": 78,
   "metadata": {},
   "outputs": [
    {
     "data": {
      "text/plain": [
       "array([-0.72004253, -0.70243757, -0.66722767, -0.59680786, -0.49117815,\n",
       "       -0.35033854, -0.17428902,  0.17781001,  0.88200808,  2.64250325])"
      ]
     },
     "execution_count": 78,
     "metadata": {},
     "output_type": "execute_result"
    }
   ],
   "source": [
    "y_scaled = y_scaled.reshape(len(y), )\n",
    "y_scaled"
   ]
  },
  {
   "cell_type": "markdown",
   "metadata": {},
   "source": [
    "### Training the model"
   ]
  },
  {
   "cell_type": "code",
   "execution_count": 88,
   "metadata": {},
   "outputs": [
    {
     "data": {
      "text/plain": [
       "SVR(C=0.5, cache_size=200, coef0=0.0, degree=4, epsilon=0.05,\n",
       "  gamma='auto_deprecated', kernel='poly', max_iter=-1, shrinking=True,\n",
       "  tol=0.001, verbose=False)"
      ]
     },
     "execution_count": 88,
     "metadata": {},
     "output_type": "execute_result"
    }
   ],
   "source": [
    "from sklearn.svm import SVR, LinearSVR\n",
    "\n",
    "linear_regressor = LinearSVR()\n",
    "sv_regressor = SVR(kernel='poly', degree=4, C=0.5, epsilon=0.05)\n",
    "sv_regressor.fit(X_scaled, y_scaled)"
   ]
  },
  {
   "cell_type": "markdown",
   "metadata": {},
   "source": [
    "### Predicting"
   ]
  },
  {
   "cell_type": "code",
   "execution_count": 89,
   "metadata": {},
   "outputs": [],
   "source": [
    "x_test = np.expand_dims(np.array([6.5]), axis=1)\n",
    "x_test_scaled = prediction_scalar.fit_transform(x_test)\n",
    "\n",
    "predictions_scaled = sv_regressor.predict(x_test_scaled)\n",
    "predictions = feature_scalar.inverse_transform(predictions_scaled)"
   ]
  },
  {
   "cell_type": "code",
   "execution_count": 90,
   "metadata": {},
   "outputs": [
    {
     "data": {
      "text/plain": [
       "array([130000.])"
      ]
     },
     "execution_count": 90,
     "metadata": {},
     "output_type": "execute_result"
    }
   ],
   "source": [
    "predictions"
   ]
  },
  {
   "cell_type": "code",
   "execution_count": null,
   "metadata": {},
   "outputs": [],
   "source": []
  }
 ],
 "metadata": {
  "kernelspec": {
   "display_name": "Python 3",
   "language": "python",
   "name": "python3"
  },
  "language_info": {
   "codemirror_mode": {
    "name": "ipython",
    "version": 3
   },
   "file_extension": ".py",
   "mimetype": "text/x-python",
   "name": "python",
   "nbconvert_exporter": "python",
   "pygments_lexer": "ipython3",
   "version": "3.6.4"
  }
 },
 "nbformat": 4,
 "nbformat_minor": 2
}
